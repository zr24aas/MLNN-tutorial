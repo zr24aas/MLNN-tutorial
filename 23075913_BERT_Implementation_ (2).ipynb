{
  "nbformat": 4,
  "nbformat_minor": 0,
  "metadata": {
    "colab": {
      "provenance": [],
      "gpuType": "T4"
    },
    "kernelspec": {
      "name": "python3",
      "display_name": "Python 3"
    },
    "language_info": {
      "name": "python"
    },
    "accelerator": "GPU"
  },
  "cells": [
    {
      "cell_type": "markdown",
      "source": [
        "**Student Name:** Zumer Rafi\n"
      ],
      "metadata": {
        "id": "WsyzfXhvCIPp"
      }
    },
    {
      "cell_type": "markdown",
      "source": [
        "**Student ID:** 23075913\n"
      ],
      "metadata": {
        "id": "jdpADBg0Ctvb"
      }
    },
    {
      "cell_type": "markdown",
      "source": [
        "**Github Link:** [Click here to see code:)](https://github.com/zr24aas/MLNN-tutorial)"
      ],
      "metadata": {
        "id": "k-p78TiKCvMz"
      }
    },
    {
      "cell_type": "markdown",
      "source": [
        "# Loading the Required Libraries"
      ],
      "metadata": {
        "id": "Fal1okNwpc7D"
      }
    },
    {
      "cell_type": "code",
      "execution_count": null,
      "metadata": {
        "id": "oVl3YGzppRzH",
        "colab": {
          "base_uri": "https://localhost:8080/"
        },
        "outputId": "3ca8c743-5953-4146-e6f5-e783d97bc9ab"
      },
      "outputs": [
        {
          "output_type": "stream",
          "name": "stdout",
          "text": [
            "Requirement already satisfied: transformers in /usr/local/lib/python3.11/dist-packages (4.50.0)\n",
            "Requirement already satisfied: filelock in /usr/local/lib/python3.11/dist-packages (from transformers) (3.18.0)\n",
            "Requirement already satisfied: huggingface-hub<1.0,>=0.26.0 in /usr/local/lib/python3.11/dist-packages (from transformers) (0.29.3)\n",
            "Requirement already satisfied: numpy>=1.17 in /usr/local/lib/python3.11/dist-packages (from transformers) (2.0.2)\n",
            "Requirement already satisfied: packaging>=20.0 in /usr/local/lib/python3.11/dist-packages (from transformers) (24.2)\n",
            "Requirement already satisfied: pyyaml>=5.1 in /usr/local/lib/python3.11/dist-packages (from transformers) (6.0.2)\n",
            "Requirement already satisfied: regex!=2019.12.17 in /usr/local/lib/python3.11/dist-packages (from transformers) (2024.11.6)\n",
            "Requirement already satisfied: requests in /usr/local/lib/python3.11/dist-packages (from transformers) (2.32.3)\n",
            "Requirement already satisfied: tokenizers<0.22,>=0.21 in /usr/local/lib/python3.11/dist-packages (from transformers) (0.21.1)\n",
            "Requirement already satisfied: safetensors>=0.4.3 in /usr/local/lib/python3.11/dist-packages (from transformers) (0.5.3)\n",
            "Requirement already satisfied: tqdm>=4.27 in /usr/local/lib/python3.11/dist-packages (from transformers) (4.67.1)\n",
            "Requirement already satisfied: fsspec>=2023.5.0 in /usr/local/lib/python3.11/dist-packages (from huggingface-hub<1.0,>=0.26.0->transformers) (2025.3.0)\n",
            "Requirement already satisfied: typing-extensions>=3.7.4.3 in /usr/local/lib/python3.11/dist-packages (from huggingface-hub<1.0,>=0.26.0->transformers) (4.12.2)\n",
            "Requirement already satisfied: charset-normalizer<4,>=2 in /usr/local/lib/python3.11/dist-packages (from requests->transformers) (3.4.1)\n",
            "Requirement already satisfied: idna<4,>=2.5 in /usr/local/lib/python3.11/dist-packages (from requests->transformers) (3.10)\n",
            "Requirement already satisfied: urllib3<3,>=1.21.1 in /usr/local/lib/python3.11/dist-packages (from requests->transformers) (2.3.0)\n",
            "Requirement already satisfied: certifi>=2017.4.17 in /usr/local/lib/python3.11/dist-packages (from requests->transformers) (2025.1.31)\n",
            "Requirement already satisfied: jax in /usr/local/lib/python3.11/dist-packages (0.5.3)\n",
            "Requirement already satisfied: jaxlib in /usr/local/lib/python3.11/dist-packages (0.5.3)\n",
            "Requirement already satisfied: ml_dtypes>=0.4.0 in /usr/local/lib/python3.11/dist-packages (from jax) (0.4.1)\n",
            "Requirement already satisfied: numpy>=1.25 in /usr/local/lib/python3.11/dist-packages (from jax) (2.0.2)\n",
            "Requirement already satisfied: opt_einsum in /usr/local/lib/python3.11/dist-packages (from jax) (3.4.0)\n",
            "Requirement already satisfied: scipy>=1.11.1 in /usr/local/lib/python3.11/dist-packages (from jax) (1.14.1)\n"
          ]
        }
      ],
      "source": [
        "# Installing necessary libraries\n",
        "!pip install transformers\n",
        "!pip install --upgrade jax jaxlib\n",
        "\n",
        "import numpy as np\n",
        "import pandas as pd\n",
        "from sklearn.model_selection import train_test_split\n",
        "from transformers import BertTokenizer, BertForSequenceClassification, get_linear_schedule_with_warmup\n",
        "import torch\n",
        "from torch.utils.data import TensorDataset, DataLoader, RandomSampler, SequentialSampler\n",
        "from torch.optim import AdamW\n",
        "from sklearn.preprocessing import LabelEncoder\n",
        "from sklearn.metrics import roc_curve, auc\n",
        "from sklearn.metrics import precision_recall_curve, average_precision_score\n",
        "from sklearn.metrics import precision_score, recall_score, f1_score"
      ]
    },
    {
      "cell_type": "markdown",
      "source": [
        "#Loading and Inspecting Dataset"
      ],
      "metadata": {
        "id": "eK1GCY6npiZu"
      }
    },
    {
      "cell_type": "code",
      "source": [
        "# Loading dataset\n",
        "df = pd.read_csv(\"spamdata_v2.csv\")\n",
        "\n",
        "# Displaying first few rows\n",
        "print(df.head())\n",
        "\n",
        "# Checking dataset information\n",
        "print(df.info())\n",
        "\n",
        "# Checking class distribution\n",
        "print(df['label'].value_counts())\n"
      ],
      "metadata": {
        "id": "zfI9yULgpoeQ",
        "colab": {
          "base_uri": "https://localhost:8080/"
        },
        "outputId": "dcfabaaf-e220-4e67-bccb-f2fc8ee583dd"
      },
      "execution_count": null,
      "outputs": [
        {
          "output_type": "stream",
          "name": "stdout",
          "text": [
            "   label                                               text\n",
            "0      0  Go until jurong point, crazy.. Available only ...\n",
            "1      0                      Ok lar... Joking wif u oni...\n",
            "2      1  Free entry in 2 a wkly comp to win FA Cup fina...\n",
            "3      0  U dun say so early hor... U c already then say...\n",
            "4      0  Nah I don't think he goes to usf, he lives aro...\n",
            "<class 'pandas.core.frame.DataFrame'>\n",
            "RangeIndex: 5572 entries, 0 to 5571\n",
            "Data columns (total 2 columns):\n",
            " #   Column  Non-Null Count  Dtype \n",
            "---  ------  --------------  ----- \n",
            " 0   label   5572 non-null   int64 \n",
            " 1   text    5572 non-null   object\n",
            "dtypes: int64(1), object(1)\n",
            "memory usage: 87.2+ KB\n",
            "None\n",
            "label\n",
            "0    4825\n",
            "1     747\n",
            "Name: count, dtype: int64\n"
          ]
        }
      ]
    },
    {
      "cell_type": "markdown",
      "source": [
        "# Checking for the null values"
      ],
      "metadata": {
        "id": "uBmhxgLu39B_"
      }
    },
    {
      "cell_type": "code",
      "source": [
        "print(y.isnull().sum())"
      ],
      "metadata": {
        "colab": {
          "base_uri": "https://localhost:8080/"
        },
        "id": "gLWObQn31ioV",
        "outputId": "3fb80928-c3e5-466b-b7a1-57c81ebeed23"
      },
      "execution_count": null,
      "outputs": [
        {
          "output_type": "stream",
          "name": "stdout",
          "text": [
            "0\n"
          ]
        }
      ]
    },
    {
      "cell_type": "markdown",
      "source": [
        "# Filling the null values"
      ],
      "metadata": {
        "id": "2AfeSjjQ4CEa"
      }
    },
    {
      "cell_type": "code",
      "source": [
        "df['label'].fillna('unknown', inplace=True)  # Replace 'unknown' with appropriate category if applicable\n",
        "X = df['text']\n",
        "y = df['label']\n"
      ],
      "metadata": {
        "id": "l-pq2HNL1snR"
      },
      "execution_count": null,
      "outputs": []
    },
    {
      "cell_type": "markdown",
      "source": [
        "# Performing Train-Test Split"
      ],
      "metadata": {
        "id": "Xx1puaFqpz2J"
      }
    },
    {
      "cell_type": "code",
      "source": [
        "train_texts, test_texts, train_labels, test_labels = train_test_split(df['text'], df['label'], stratify=df['label'])"
      ],
      "metadata": {
        "id": "m66EYRK1p3dv"
      },
      "execution_count": null,
      "outputs": []
    },
    {
      "cell_type": "markdown",
      "source": [
        "# Loading BERT tokenizer and model"
      ],
      "metadata": {
        "id": "MZyAqIgI4R1S"
      }
    },
    {
      "cell_type": "code",
      "source": [
        "tokenizer = BertTokenizer.from_pretrained('bert-base-uncased')\n",
        "model = BertForSequenceClassification.from_pretrained('bert-base-uncased', num_labels=2)\n"
      ],
      "metadata": {
        "colab": {
          "base_uri": "https://localhost:8080/"
        },
        "id": "KN8eDa2m4WZH",
        "outputId": "545513b2-7868-45f9-fb84-1dc5b3ee7912"
      },
      "execution_count": null,
      "outputs": [
        {
          "output_type": "stream",
          "name": "stderr",
          "text": [
            "Some weights of BertForSequenceClassification were not initialized from the model checkpoint at bert-base-uncased and are newly initialized: ['classifier.bias', 'classifier.weight']\n",
            "You should probably TRAIN this model on a down-stream task to be able to use it for predictions and inference.\n"
          ]
        }
      ]
    },
    {
      "cell_type": "markdown",
      "source": [
        "# Tokenizing Inputs"
      ],
      "metadata": {
        "id": "Ii6U9Krp4bmU"
      }
    },
    {
      "cell_type": "code",
      "source": [
        "max_length = 128  # Limit sequence length\n",
        "train_encodings = tokenizer(list(train_texts), truncation=True, padding=True, max_length=max_length)\n",
        "test_encodings = tokenizer(list(test_texts), truncation=True, padding=True, max_length=max_length)"
      ],
      "metadata": {
        "id": "wy6RgG5i4e3L"
      },
      "execution_count": null,
      "outputs": []
    },
    {
      "cell_type": "markdown",
      "source": [
        "# Converting Labels"
      ],
      "metadata": {
        "id": "6qXw016U6UyP"
      }
    },
    {
      "cell_type": "code",
      "source": [
        "# Converting labels to integers using pandas if they are in string format\n",
        "train_labels = pd.to_numeric(train_labels, errors='coerce').fillna(0).astype(int)\n",
        "test_labels = pd.to_numeric(test_labels, errors='coerce').fillna(0).astype(int)"
      ],
      "metadata": {
        "id": "5iRo53WY6W4I"
      },
      "execution_count": null,
      "outputs": []
    },
    {
      "cell_type": "markdown",
      "source": [
        "#  Label Enconding"
      ],
      "metadata": {
        "id": "8OSyTa0m6T1a"
      }
    },
    {
      "cell_type": "code",
      "source": [
        "# Initializing label encoder\n",
        "label_encoder = LabelEncoder()\n",
        "\n",
        "# Converting labels to integers\n",
        "y_train = label_encoder.fit_transform(y_train)\n",
        "y_test = label_encoder.transform(y_test)\n",
        "\n",
        "print(\"Labels encoded successfully!\")"
      ],
      "metadata": {
        "colab": {
          "base_uri": "https://localhost:8080/"
        },
        "id": "APo-u5sz7MD6",
        "outputId": "9eb3716b-b046-4fe1-cc97-31d4bfc7cd79"
      },
      "execution_count": null,
      "outputs": [
        {
          "output_type": "stream",
          "name": "stdout",
          "text": [
            "Labels encoded successfully!\n"
          ]
        }
      ]
    },
    {
      "cell_type": "markdown",
      "source": [
        " # Creating TensorDatasets"
      ],
      "metadata": {
        "id": "1mZ05Jgsp4Af"
      }
    },
    {
      "cell_type": "code",
      "source": [
        "train_dataset = TensorDataset(torch.tensor(train_encodings['input_ids']),\n",
        "                              torch.tensor(train_encodings['attention_mask']),\n",
        "                              torch.tensor(train_labels.tolist()))\n",
        "\n",
        "test_dataset = TensorDataset(torch.tensor(test_encodings['input_ids']),\n",
        "                             torch.tensor(test_encodings['attention_mask']),\n",
        "                             torch.tensor(test_labels.tolist()))"
      ],
      "metadata": {
        "id": "8Sbw4GSC4pER"
      },
      "execution_count": null,
      "outputs": []
    },
    {
      "cell_type": "markdown",
      "source": [
        "# Defining DataLoader"
      ],
      "metadata": {
        "id": "YSI0eFqy7V1v"
      }
    },
    {
      "cell_type": "code",
      "source": [
        "batch_size = 16  # Reducing batch size\n",
        "train_sampler = RandomSampler(train_dataset)\n",
        "train_dataloader = DataLoader(train_dataset, sampler=train_sampler, batch_size=batch_size)\n",
        "\n",
        "test_sampler = SequentialSampler(test_dataset)\n",
        "test_dataloader = DataLoader(test_dataset, sampler=test_sampler, batch_size=batch_size)"
      ],
      "metadata": {
        "id": "wmfWmxM97YzU"
      },
      "execution_count": null,
      "outputs": []
    },
    {
      "cell_type": "markdown",
      "source": [
        "# Setting of GPU if available"
      ],
      "metadata": {
        "id": "gTv-Cz5-7gB0"
      }
    },
    {
      "cell_type": "code",
      "source": [
        "device = torch.device(\"cuda\" if torch.cuda.is_available() else \"cpu\")\n",
        "model.to(device)"
      ],
      "metadata": {
        "colab": {
          "base_uri": "https://localhost:8080/"
        },
        "id": "fHW4N2i47ii6",
        "outputId": "dd553846-c54c-45ad-deb3-6a4a73407d09"
      },
      "execution_count": null,
      "outputs": [
        {
          "output_type": "execute_result",
          "data": {
            "text/plain": [
              "BertForSequenceClassification(\n",
              "  (bert): BertModel(\n",
              "    (embeddings): BertEmbeddings(\n",
              "      (word_embeddings): Embedding(30522, 768, padding_idx=0)\n",
              "      (position_embeddings): Embedding(512, 768)\n",
              "      (token_type_embeddings): Embedding(2, 768)\n",
              "      (LayerNorm): LayerNorm((768,), eps=1e-12, elementwise_affine=True)\n",
              "      (dropout): Dropout(p=0.1, inplace=False)\n",
              "    )\n",
              "    (encoder): BertEncoder(\n",
              "      (layer): ModuleList(\n",
              "        (0-11): 12 x BertLayer(\n",
              "          (attention): BertAttention(\n",
              "            (self): BertSdpaSelfAttention(\n",
              "              (query): Linear(in_features=768, out_features=768, bias=True)\n",
              "              (key): Linear(in_features=768, out_features=768, bias=True)\n",
              "              (value): Linear(in_features=768, out_features=768, bias=True)\n",
              "              (dropout): Dropout(p=0.1, inplace=False)\n",
              "            )\n",
              "            (output): BertSelfOutput(\n",
              "              (dense): Linear(in_features=768, out_features=768, bias=True)\n",
              "              (LayerNorm): LayerNorm((768,), eps=1e-12, elementwise_affine=True)\n",
              "              (dropout): Dropout(p=0.1, inplace=False)\n",
              "            )\n",
              "          )\n",
              "          (intermediate): BertIntermediate(\n",
              "            (dense): Linear(in_features=768, out_features=3072, bias=True)\n",
              "            (intermediate_act_fn): GELUActivation()\n",
              "          )\n",
              "          (output): BertOutput(\n",
              "            (dense): Linear(in_features=3072, out_features=768, bias=True)\n",
              "            (LayerNorm): LayerNorm((768,), eps=1e-12, elementwise_affine=True)\n",
              "            (dropout): Dropout(p=0.1, inplace=False)\n",
              "          )\n",
              "        )\n",
              "      )\n",
              "    )\n",
              "    (pooler): BertPooler(\n",
              "      (dense): Linear(in_features=768, out_features=768, bias=True)\n",
              "      (activation): Tanh()\n",
              "    )\n",
              "  )\n",
              "  (dropout): Dropout(p=0.1, inplace=False)\n",
              "  (classifier): Linear(in_features=768, out_features=2, bias=True)\n",
              ")"
            ]
          },
          "metadata": {},
          "execution_count": 103
        }
      ]
    },
    {
      "cell_type": "markdown",
      "source": [
        "# Defining optimizer and scheduler"
      ],
      "metadata": {
        "id": "rxglOxi47quZ"
      }
    },
    {
      "cell_type": "code",
      "source": [
        "optimizer = AdamW(model.parameters(), lr=2e-5)\n",
        "epochs = 5\n",
        "total_steps = len(train_dataloader) * epochs\n",
        "scheduler = get_linear_schedule_with_warmup(optimizer, num_warmup_steps=0, num_training_steps=total_steps)"
      ],
      "metadata": {
        "id": "dT7_-fI77sHC"
      },
      "execution_count": null,
      "outputs": []
    },
    {
      "cell_type": "markdown",
      "source": [
        "# Training loop and Evaluating Accuracy"
      ],
      "metadata": {
        "id": "7pmgp7cR7uvF"
      }
    },
    {
      "cell_type": "code",
      "source": [
        "accumulation_steps = 2  # Accumulating gradients over 2 steps\n",
        "model.train()\n",
        "total_loss = 0\n",
        "train_losses = []  # List to store training losses over epochs\n",
        "train_accuracies = []  # List to store training accuracies over epochs\n",
        "for epoch in range(epochs):\n",
        "    correct_predictions = 0\n",
        "    total_predictions = 0\n",
        "    for i, batch in enumerate(train_dataloader):\n",
        "        if i % accumulation_steps == 0:\n",
        "            optimizer.zero_grad()\n",
        "        batch = tuple(t.to(device) for t in batch)\n",
        "        inputs = {\"input_ids\": batch[0], \"attention_mask\": batch[1], \"labels\": batch[2]}\n",
        "        outputs = model(**inputs)\n",
        "        loss = outputs.loss\n",
        "        total_loss += loss.item()\n",
        "        loss.backward()\n",
        "        if (i + 1) % accumulation_steps == 0:\n",
        "            torch.nn.utils.clip_grad_norm_(model.parameters(), 1.0)\n",
        "            optimizer.step()\n",
        "            scheduler.step()  # Updating scheduler\n",
        "\n",
        "        # Calculating accuracy\n",
        "        logits = outputs.logits\n",
        "        predictions = torch.argmax(logits, dim=1)\n",
        "        correct_predictions += torch.sum(predictions == batch[2]).item()\n",
        "        total_predictions += len(batch[2])\n",
        "\n",
        "    # Calculating average training loss and accuracy for the epoch\n",
        "    avg_train_loss = total_loss / len(train_dataloader)\n",
        "    avg_train_accuracy = correct_predictions / total_predictions\n",
        "\n",
        "    # Appending training loss and accuracy for the epoch\n",
        "    train_losses.append(avg_train_loss)\n",
        "    train_accuracies.append(avg_train_accuracy)\n",
        "\n",
        "    print(f\"Epoch {epoch + 1}/{epochs}, Average Training Loss: {avg_train_loss:.4f}, Average Training Accuracy: {avg_train_accuracy:.4f}\")\n",
        "\n",
        "# Evaluation\n",
        "model.eval()\n",
        "predictions, true_labels = [], []\n",
        "for batch in test_dataloader:\n",
        "    batch = tuple(t.to(device) for t in batch)\n",
        "    inputs = {\"input_ids\": batch[0], \"attention_mask\": batch[1], \"labels\": batch[2]}\n",
        "    with torch.no_grad():\n",
        "        outputs = model(**inputs)\n",
        "    logits = outputs.logits\n",
        "    predictions.extend(torch.argmax(logits, dim=1).tolist())\n",
        "    true_labels.extend(batch[2].tolist())\n",
        "\n",
        "# Calculating accuracy\n",
        "accuracy = accuracy_score(true_labels, predictions)\n",
        "print(f\"Accuracy: {accuracy:.4f}\")\n"
      ],
      "metadata": {
        "colab": {
          "base_uri": "https://localhost:8080/"
        },
        "id": "nnOvqyL17xTn",
        "outputId": "dd433b57-d13c-439f-b118-cc42b7365dc0"
      },
      "execution_count": null,
      "outputs": [
        {
          "output_type": "stream",
          "name": "stdout",
          "text": [
            "Epoch 1/5, Average Training Loss: 0.1038, Average Training Accuracy: 0.9725\n",
            "Epoch 2/5, Average Training Loss: 0.1326, Average Training Accuracy: 0.9945\n",
            "Epoch 3/5, Average Training Loss: 0.1410, Average Training Accuracy: 0.9978\n",
            "Epoch 4/5, Average Training Loss: 0.1437, Average Training Accuracy: 0.9990\n",
            "Epoch 5/5, Average Training Loss: 0.1439, Average Training Accuracy: 1.0000\n",
            "Accuracy: 0.9957\n"
          ]
        }
      ]
    },
    {
      "cell_type": "markdown",
      "source": [
        "# Classification Report"
      ],
      "metadata": {
        "id": "WwhpO4FwIjPj"
      }
    },
    {
      "cell_type": "code",
      "source": [
        "print(classification_report(true_labels, predictions))\n",
        "print(confusion_matrix(true_labels, predictions))"
      ],
      "metadata": {
        "colab": {
          "base_uri": "https://localhost:8080/"
        },
        "id": "miKOT3raIl17",
        "outputId": "8c863268-608f-4817-9861-482c12c919c9"
      },
      "execution_count": null,
      "outputs": [
        {
          "output_type": "stream",
          "name": "stdout",
          "text": [
            "              precision    recall  f1-score   support\n",
            "\n",
            "           0       1.00      1.00      1.00      1206\n",
            "           1       1.00      0.97      0.98       187\n",
            "\n",
            "    accuracy                           1.00      1393\n",
            "   macro avg       1.00      0.98      0.99      1393\n",
            "weighted avg       1.00      1.00      1.00      1393\n",
            "\n",
            "[[1206    0]\n",
            " [   6  181]]\n"
          ]
        }
      ]
    },
    {
      "cell_type": "markdown",
      "source": [
        "# Analyses through Graphs"
      ],
      "metadata": {
        "id": "HqPt2BxR_fsD"
      }
    },
    {
      "cell_type": "markdown",
      "source": [
        "# Bar Graph"
      ],
      "metadata": {
        "id": "ThpF2raq_1pq"
      }
    },
    {
      "cell_type": "code",
      "source": [
        "report = classification_report(true_labels, predictions, output_dict=True)\n",
        "report_df = pd.DataFrame(report).transpose()\n",
        "plt.figure(figsize=(8, 4))\n",
        "sns.barplot(x=report_df.index, y=report_df['precision'], palette=\"viridis\")\n",
        "plt.xlabel('Class')\n",
        "plt.ylabel('Precision')\n",
        "plt.title('Precision by Class')\n",
        "plt.xticks(rotation=45)\n",
        "plt.show()"
      ],
      "metadata": {
        "colab": {
          "base_uri": "https://localhost:8080/",
          "height": 473
        },
        "id": "nSzAjDNL_ird",
        "outputId": "69452765-441d-4cd6-f518-aaaa1bae6c0c"
      },
      "execution_count": null,
      "outputs": [
        {
          "output_type": "display_data",
          "data": {
            "text/plain": [
              "<Figure size 800x400 with 1 Axes>"
            ],
            "image/png": "[encoded data removed]"
          },
          "metadata": {}
        }
      ]
    },
    {
      "cell_type": "markdown",
      "source": [
        "# Confusion Matrix"
      ],
      "metadata": {
        "id": "Zajy2P7DAG1X"
      }
    },
    {
      "cell_type": "code",
      "source": [
        "cm_normalized = cm.astype('float') / cm.sum(axis=1)[:, np.newaxis]\n",
        "plt.figure(figsize=(8, 4))\n",
        "sns.heatmap(cm_normalized, annot=True, fmt='.2f', cmap='Blues', cbar=True, annot_kws={\"size\": 14})\n",
        "plt.xlabel('Predicted Label', fontsize=14)\n",
        "plt.ylabel('True Label', fontsize=14)\n",
        "plt.title('Confusion Matrix', fontsize=16)\n",
        "plt.show()\n"
      ],
      "metadata": {
        "colab": {
          "base_uri": "https://localhost:8080/",
          "height": 417
        },
        "id": "DW25WGIZALYE",
        "outputId": "b7fa5c9f-2968-4bc9-b7a5-014a8a5ee319"
      },
      "execution_count": null,
      "outputs": [
        {
          "output_type": "display_data",
          "data": {
            "text/plain": [
              "<Figure size 800x400 with 2 Axes>"
            ],
            "image/png": "[encoded data removed]"
          },
          "metadata": {}
        }
      ]
    },
    {
      "cell_type": "markdown",
      "source": [
        "# Classification Report"
      ],
      "metadata": {
        "id": "al_MD1C5Ek-A"
      }
    },
    {
      "cell_type": "code",
      "source": [
        "# Calculating precision, recall, and F1 score for each class\n",
        "precision = precision_score(true_labels, predictions, average=None)\n",
        "recall = recall_score(true_labels, predictions, average=None)\n",
        "f1 = f1_score(true_labels, predictions, average=None)\n",
        "\n",
        "# Plotting precision, recall, and F1 scores for each class\n",
        "labels = ['Class 0', 'Class 1']\n",
        "x = np.arange(len(labels))\n",
        "\n",
        "plt.figure(figsize=(8, 6))\n",
        "width = 0.2\n",
        "plt.bar(x - width, precision, width, label='Precision', color='blue')\n",
        "plt.bar(x, recall, width, label='Recall', color='green')\n",
        "plt.bar(x + width, f1, width, label='F1 Score', color='purple')\n",
        "\n",
        "plt.xlabel('Classes')\n",
        "plt.ylabel('Scores')\n",
        "plt.title('Precision, Recall, and F1 Score for Each Class')\n",
        "plt.xticks(x, labels)\n",
        "plt.legend()\n",
        "plt.show()\n"
      ],
      "metadata": {
        "colab": {
          "base_uri": "https://localhost:8080/",
          "height": 564
        },
        "id": "DHdmSY21EXBt",
        "outputId": "27267142-6761-41e3-8964-698ee77d52bf"
      },
      "execution_count": null,
      "outputs": [
        {
          "output_type": "display_data",
          "data": {
            "text/plain": [
              "<Figure size 800x600 with 1 Axes>"
            ],
            "image/png": "[encoded data removed]"
          },
          "metadata": {}
        }
      ]
    },
    {
      "cell_type": "markdown",
      "source": [
        "# Cumulative Gain Curve"
      ],
      "metadata": {
        "id": "kJaNcDTQOlls"
      }
    },
    {
      "cell_type": "code",
      "source": [
        "# Calculating cumulative gain curve\n",
        "def cumulative_gain(true_labels, probabilities):\n",
        "    # Ensuring probabilities are between 0 and 1\n",
        "    probabilities = np.clip(probabilities, 0, 1)\n",
        "\n",
        "    order = np.argsort(probabilities)[::-1]\n",
        "    sorted_true_labels = np.array(true_labels)[order]\n",
        "    cum_true_labels = np.cumsum(sorted_true_labels)\n",
        "    total_positive = cum_true_labels[-1] if cum_true_labels[-1] > 0 else 1  # To avoid division by zero\n",
        "\n",
        "    # Calculating the percentage of positive samples in top N% samples\n",
        "    return np.concatenate(([0], cum_true_labels / total_positive))\n",
        "\n",
        "# Replacing with your actual 'true_labels' and 'probabilities'\n",
        "true_labels = np.random.randint(0, 2, 100)  # Binary labels\n",
        "probabilities = np.random.rand(100)  # Probabilities from model\n",
        "\n",
        "# Plotting cumulative gain curve\n",
        "plt.figure(figsize=(8, 6))\n",
        "gain_curve = cumulative_gain(true_labels, probabilities)\n",
        "plt.plot(np.linspace(0, 1, len(gain_curve)), gain_curve, color='orange', label=\"Cumulative Gain Curve\")\n",
        "plt.xlabel('Percentage of samples')\n",
        "plt.ylabel('Cumulative Gain')\n",
        "plt.title('Cumulative Gain Curve')\n",
        "plt.legend()\n",
        "plt.grid(True)\n",
        "plt.show()\n"
      ],
      "metadata": {
        "colab": {
          "base_uri": "https://localhost:8080/",
          "height": 564
        },
        "id": "MllCnEBFFv-H",
        "outputId": "46addd0a-2a4d-46d6-f8cc-32418e8a5197"
      },
      "execution_count": null,
      "outputs": [
        {
          "output_type": "display_data",
          "data": {
            "text/plain": [
              "<Figure size 800x600 with 1 Axes>"
            ],
            "image/png": "[encoded data removed]"
          },
          "metadata": {}
        }
      ]
    }
  ]
}